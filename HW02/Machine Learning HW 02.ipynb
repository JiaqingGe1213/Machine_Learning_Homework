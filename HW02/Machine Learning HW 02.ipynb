{
 "cells": [
  {
   "cell_type": "markdown",
   "metadata": {},
   "source": [
    "Problem 2"
   ]
  },
  {
   "cell_type": "markdown",
   "metadata": {},
   "source": [
    "Import Data"
   ]
  },
  {
   "cell_type": "code",
   "execution_count": 1,
   "metadata": {},
   "outputs": [],
   "source": [
    "import numpy as np\n",
    "from numpy import linalg as la\n",
    "import matplotlib.pyplot as plt\n",
    "import pandas as pd\n",
    "import os\n",
    "from numpy.linalg import inv\n",
    "from scipy.special import factorial\n",
    "import math\n",
    "N = 4600\n",
    "bx = np.matrix(pd.read_csv('Bayes_classifier/X.csv',header=None))\n",
    "by = np.matrix(pd.read_csv('Bayes_classifier/y.csv',header=None))\n",
    "bxy = np.hstack((bx,by))\n",
    "np.random.shuffle(bxy)\n",
    "bxy_sub = np.split(bxy,10) "
   ]
  },
  {
   "cell_type": "markdown",
   "metadata": {},
   "source": [
    "(a)"
   ]
  },
  {
   "cell_type": "markdown",
   "metadata": {},
   "source": [
    "Run the algorithm on 10 groups"
   ]
  },
  {
   "cell_type": "code",
   "execution_count": 2,
   "metadata": {},
   "outputs": [],
   "source": [
    "y_hat = []\n",
    "lamb_0 = []\n",
    "lamb_1 = []\n",
    "for i in range(0,10):\n",
    "    lamb_0_ = []\n",
    "    lamb_1_ = []\n",
    "    y_hat_ = []\n",
    "    sub = bxy_sub[:]\n",
    "    test = sub.pop(i)\n",
    "    sub = np.vstack(sub)\n",
    "    pi_hat = sub[:,-1].sum()/(4600*0.9)\n",
    "    for j in range(0,54):\n",
    "        lamb_0_.append(((1+sum((1-np.array(sub[:,-1]))*np.array(sub[:,j])))/(1+sum(1-np.array(sub[:,-1]))))[0])\n",
    "        lamb_1_.append(((1+sum((np.array(sub[:,-1]))*np.array(sub[:,j])))/(1+sum(np.array(sub[:,-1]))))[0])\n",
    "    for a in range(0,460):\n",
    "        p_y_0 = (1-pi_hat)*math.exp(np.sum((np.array(test[a,:-1])*np.log(np.array(lamb_0_))-np.array(lamb_0_))-np.log(factorial(np.array(test[a,:-1])))))\n",
    "        p_y_1 = pi_hat*math.exp(np.sum((np.array(test[a,:-1])*np.log(np.array(lamb_1_))-np.array(lamb_1_))-np.log(factorial(np.array(test[a,:-1])))))\n",
    "        if p_y_0>p_y_1:\n",
    "            y_hat_.append(0)\n",
    "        else:\n",
    "            y_hat_.append(1)\n",
    "    y_hat.extend(y_hat_)\n",
    "    lamb_0.append(lamb_0_)\n",
    "    lamb_1.append(lamb_1_)"
   ]
  },
  {
   "cell_type": "markdown",
   "metadata": {},
   "source": [
    "Return the precision matrix"
   ]
  },
  {
   "cell_type": "code",
   "execution_count": 3,
   "metadata": {},
   "outputs": [
    {
     "name": "stdout",
     "output_type": "stream",
     "text": [
      "1-1 = 1712\n",
      "1-0 = 632\n",
      "0-1 = 101\n",
      "0-0 = 2155\n",
      "pricision = 0.8406521739130435\n"
     ]
    }
   ],
   "source": [
    "y_1_1 = 0\n",
    "y_1_0 = 0\n",
    "y_0_1 = 0\n",
    "y_0_0 = 0\n",
    "for i in range(0,4600):\n",
    "    if y_hat[i]==1 and bxy[i,-1]==1:\n",
    "        y_1_1+=1\n",
    "    elif y_hat[i]==1 and bxy[i,-1]==0:\n",
    "        y_1_0+=1\n",
    "    elif y_hat[i]==0 and bxy[i,-1]==1:\n",
    "        y_0_1+=1\n",
    "    elif y_hat[i]==0 and bxy[i,-1]==0:\n",
    "        y_0_0+=1\n",
    "print('1-1 =', y_1_1)\n",
    "print('1-0 =',y_1_0)\n",
    "print('0-1 =',y_0_1)\n",
    "print('0-0 =',y_0_0)\n",
    "print('pricision =',(y_1_1+y_0_0)/4600)"
   ]
  },
  {
   "cell_type": "markdown",
   "metadata": {},
   "source": [
    "(b)"
   ]
  },
  {
   "cell_type": "markdown",
   "metadata": {},
   "source": [
    "Plotting lambda"
   ]
  },
  {
   "cell_type": "code",
   "execution_count": 4,
   "metadata": {},
   "outputs": [
    {
     "data": {
      "image/png": "[encoded data removed]",
      "text/plain": [
       "<Figure size 432x288 with 1 Axes>"
      ]
     },
     "metadata": {
      "needs_background": "light"
     },
     "output_type": "display_data"
    },
    {
     "data": {
      "image/png": "[encoded data removed]",
      "text/plain": [
       "<Figure size 432x288 with 1 Axes>"
      ]
     },
     "metadata": {
      "needs_background": "light"
     },
     "output_type": "display_data"
    }
   ],
   "source": [
    "lamb_1_mean = np.mean(np.array(lamb_1), axis = 0)\n",
    "lamb_0_mean = np.mean(np.array(lamb_0), axis = 0)\n",
    "x = range(1,55)\n",
    "plot_1 = plt.stem(x, lamb_1_mean,linefmt='grey', markerfmt='D', use_line_collection=True)\n",
    "plt.ylabel('lambda for spams')\n",
    "plt.xlabel('variables')\n",
    "plt.vlines(x=16,ymin=0,ymax=20,colors='r',linestyles='-.')\n",
    "plt.vlines(x=52,ymin=0,ymax=20,colors='r',linestyles='-.')\n",
    "plt.show()\n",
    "plot_0 = plt.stem(x, lamb_0_mean,linefmt='blue', markerfmt='D', use_line_collection=True)\n",
    "plt.ylabel('lambda for emails')\n",
    "plt.xlabel('variables')\n",
    "plt.vlines(x=16,ymin=0,ymax=20,colors='r',linestyles='-.')\n",
    "plt.vlines(x=52,ymin=0,ymax=20,colors='r',linestyles='-.')\n",
    "plt.show()"
   ]
  },
  {
   "cell_type": "markdown",
   "metadata": {},
   "source": [
    "(3) Knn classifier"
   ]
  },
  {
   "cell_type": "code",
   "execution_count": 5,
   "metadata": {},
   "outputs": [],
   "source": [
    "y_hat_knn = []\n",
    "for k in range(1,21):\n",
    "    y_hat_k =[]\n",
    "    for i in range(0,10):\n",
    "        distance=[]\n",
    "        y_hat_ = []\n",
    "        sub = bxy_sub[:]\n",
    "        test = sub.pop(i)\n",
    "        train = np.vstack(sub)\n",
    "        for j in range(460):\n",
    "            distance = np.hstack((np.sum(np.abs(train[:,:-1]-test[j,:-1]),axis=1),train[:,-1]))\n",
    "            distance_sort = distance[np.argsort(distance.A[:, 0])]\n",
    "            distance_sort_top = distance_sort[:k,:]\n",
    "            vote_1 = np.sum(distance_sort_top[:,1])\n",
    "            vote_0 = k-vote_1\n",
    "            if vote_1 > vote_0:\n",
    "                y_hat_.append(1)\n",
    "            else:\n",
    "                y_hat_.append(0)\n",
    "        y_hat_k.extend(y_hat_)\n",
    "    y_hat_knn.append(y_hat_k)"
   ]
  },
  {
   "cell_type": "code",
   "execution_count": 6,
   "metadata": {},
   "outputs": [],
   "source": [
    "precisions = 1-np.sum(np.abs(np.array(y_hat_knn).T-bxy[:,-1]),axis=0)/4600"
   ]
  },
  {
   "cell_type": "code",
   "execution_count": 7,
   "metadata": {},
   "outputs": [
    {
     "data": {
      "image/png": "[encoded data removed]",
      "text/plain": [
       "<Figure size 432x288 with 1 Axes>"
      ]
     },
     "metadata": {
      "needs_background": "light"
     },
     "output_type": "display_data"
    }
   ],
   "source": [
    "plt.plot(range(1,21), precisions.T)\n",
    "plt.ylabel('precision')\n",
    "plt.xlabel('number of k')\n",
    "plt.xticks(np.arange(1, 21, 1))\n",
    "plt.show()"
   ]
  },
  {
   "cell_type": "markdown",
   "metadata": {},
   "source": [
    "Problem 3"
   ]
  },
  {
   "cell_type": "markdown",
   "metadata": {},
   "source": [
    "(a)"
   ]
  },
  {
   "cell_type": "code",
   "execution_count": 13,
   "metadata": {},
   "outputs": [],
   "source": [
    "X_train = np.matrix(pd.read_csv('X_train.csv',header=None))\n",
    "y_train = np.matrix(pd.read_csv('y_train.csv',header=None))\n",
    "X_test = np.matrix(pd.read_csv('X_test.csv',header=None))\n",
    "y_test = np.matrix(pd.read_csv('y_test.csv',header=None))\n",
    "X_train = X_train[:,0:-1]\n",
    "X_test = X_test[:,0:-1]"
   ]
  },
  {
   "cell_type": "markdown",
   "metadata": {},
   "source": [
    "Writing the function for predicting y"
   ]
  },
  {
   "cell_type": "code",
   "execution_count": 23,
   "metadata": {},
   "outputs": [],
   "source": [
    "n = len(X_train)\n",
    "K_n = np.zeros((n, n))\n",
    "for i in range(0,n):\n",
    "    for j in range(0,n):\n",
    "        K_n[i,j] = -np.sum(np.square(X_train[i,:]-X_train[j,:]))\n",
    "def gaussian_process_predict (x_new, b, sigma_quared):\n",
    "    mu_ = np.exp(-np.sum(np.square(X_train-x_new),axis=1)/b).T.dot(inv(sigma_quared*np.identity(n)+np.exp(K_n/b))).dot(y_train)\n",
    "    sigma = sigma_quared+1-np.exp(-np.sum(np.square(X_train-x_new),axis=1)/b).T.dot(inv(sigma_quared*np.identity(n)+np.exp(K_n/b))).dot(np.exp(-np.sum(np.square(X_train-x_new),axis=1))/b)[0,0]\n",
    "    return (mu_[0,0],sigma)"
   ]
  },
  {
   "cell_type": "markdown",
   "metadata": {},
   "source": [
    "(b)"
   ]
  },
  {
   "cell_type": "code",
   "execution_count": 24,
   "metadata": {},
   "outputs": [],
   "source": [
    "y_hat_all = []\n",
    "for b in range(5,16,2):\n",
    "    for sigma_square in np.arange(0.1,1.1,0.1):\n",
    "        y_hat = []\n",
    "        for i in range(0,len(X_test)):\n",
    "            y_hat.append(gaussian_process_predict(X_test[i,:], b, sigma_square))\n",
    "        y_hat_all.append(y_hat)"
   ]
  },
  {
   "cell_type": "code",
   "execution_count": 25,
   "metadata": {
    "scrolled": false
   },
   "outputs": [
    {
     "data": {
      "text/html": [
       "<div>\n",
       "<style scoped>\n",
       "    .dataframe tbody tr th:only-of-type {\n",
       "        vertical-align: middle;\n",
       "    }\n",
       "\n",
       "    .dataframe tbody tr th {\n",
       "        vertical-align: top;\n",
       "    }\n",
       "\n",
       "    .dataframe thead th {\n",
       "        text-align: right;\n",
       "    }\n",
       "</style>\n",
       "<table border=\"1\" class=\"dataframe\">\n",
       "  <thead>\n",
       "    <tr style=\"text-align: right;\">\n",
       "      <th></th>\n",
       "      <th>RMSE</th>\n",
       "    </tr>\n",
       "  </thead>\n",
       "  <tbody>\n",
       "    <tr>\n",
       "      <th>(11, 0.1)</th>\n",
       "      <td>1.890509</td>\n",
       "    </tr>\n",
       "    <tr>\n",
       "      <th>(13, 0.1)</th>\n",
       "      <td>1.895850</td>\n",
       "    </tr>\n",
       "    <tr>\n",
       "      <th>(9, 0.1)</th>\n",
       "      <td>1.897650</td>\n",
       "    </tr>\n",
       "    <tr>\n",
       "      <th>(9, 0.2)</th>\n",
       "      <td>1.902521</td>\n",
       "    </tr>\n",
       "    <tr>\n",
       "      <th>(7, 0.2)</th>\n",
       "      <td>1.904878</td>\n",
       "    </tr>\n",
       "    <tr>\n",
       "      <th>(7, 0.3)</th>\n",
       "      <td>1.908082</td>\n",
       "    </tr>\n",
       "    <tr>\n",
       "      <th>(15, 0.1)</th>\n",
       "      <td>1.909605</td>\n",
       "    </tr>\n",
       "    <tr>\n",
       "      <th>(11, 0.2)</th>\n",
       "      <td>1.914983</td>\n",
       "    </tr>\n",
       "    <tr>\n",
       "      <th>(7, 0.4)</th>\n",
       "      <td>1.915904</td>\n",
       "    </tr>\n",
       "    <tr>\n",
       "      <th>(9, 0.3)</th>\n",
       "      <td>1.917650</td>\n",
       "    </tr>\n",
       "    <tr>\n",
       "      <th>(7, 0.1)</th>\n",
       "      <td>1.920164</td>\n",
       "    </tr>\n",
       "    <tr>\n",
       "      <th>(5, 0.4)</th>\n",
       "      <td>1.922199</td>\n",
       "    </tr>\n",
       "    <tr>\n",
       "      <th>(5, 0.3)</th>\n",
       "      <td>1.923422</td>\n",
       "    </tr>\n",
       "    <tr>\n",
       "      <th>(5, 0.5)</th>\n",
       "      <td>1.924771</td>\n",
       "    </tr>\n",
       "    <tr>\n",
       "      <th>(7, 0.5)</th>\n",
       "      <td>1.924806</td>\n",
       "    </tr>\n",
       "    <tr>\n",
       "      <th>(5, 0.6)</th>\n",
       "      <td>1.929215</td>\n",
       "    </tr>\n",
       "    <tr>\n",
       "      <th>(9, 0.4)</th>\n",
       "      <td>1.932517</td>\n",
       "    </tr>\n",
       "    <tr>\n",
       "      <th>(5, 0.2)</th>\n",
       "      <td>1.933137</td>\n",
       "    </tr>\n",
       "    <tr>\n",
       "      <th>(7, 0.6)</th>\n",
       "      <td>1.933704</td>\n",
       "    </tr>\n",
       "    <tr>\n",
       "      <th>(5, 0.7)</th>\n",
       "      <td>1.934636</td>\n",
       "    </tr>\n",
       "    <tr>\n",
       "      <th>(13, 0.2)</th>\n",
       "      <td>1.935588</td>\n",
       "    </tr>\n",
       "    <tr>\n",
       "      <th>(11, 0.3)</th>\n",
       "      <td>1.938851</td>\n",
       "    </tr>\n",
       "    <tr>\n",
       "      <th>(5, 0.8)</th>\n",
       "      <td>1.940585</td>\n",
       "    </tr>\n",
       "    <tr>\n",
       "      <th>(7, 0.7)</th>\n",
       "      <td>1.942256</td>\n",
       "    </tr>\n",
       "    <tr>\n",
       "      <th>(9, 0.5)</th>\n",
       "      <td>1.945702</td>\n",
       "    </tr>\n",
       "    <tr>\n",
       "      <th>(5, 0.9)</th>\n",
       "      <td>1.946822</td>\n",
       "    </tr>\n",
       "    <tr>\n",
       "      <th>(7, 0.8)</th>\n",
       "      <td>1.950382</td>\n",
       "    </tr>\n",
       "    <tr>\n",
       "      <th>(5, 1.0)</th>\n",
       "      <td>1.953215</td>\n",
       "    </tr>\n",
       "    <tr>\n",
       "      <th>(9, 0.6)</th>\n",
       "      <td>1.957237</td>\n",
       "    </tr>\n",
       "    <tr>\n",
       "      <th>(11, 0.4)</th>\n",
       "      <td>1.957939</td>\n",
       "    </tr>\n",
       "    <tr>\n",
       "      <th>(7, 0.9)</th>\n",
       "      <td>1.958095</td>\n",
       "    </tr>\n",
       "    <tr>\n",
       "      <th>(15, 0.2)</th>\n",
       "      <td>1.959551</td>\n",
       "    </tr>\n",
       "    <tr>\n",
       "      <th>(13, 0.3)</th>\n",
       "      <td>1.964600</td>\n",
       "    </tr>\n",
       "    <tr>\n",
       "      <th>(7, 1.0)</th>\n",
       "      <td>1.965440</td>\n",
       "    </tr>\n",
       "    <tr>\n",
       "      <th>(5, 0.1)</th>\n",
       "      <td>1.966277</td>\n",
       "    </tr>\n",
       "    <tr>\n",
       "      <th>(9, 0.7)</th>\n",
       "      <td>1.967406</td>\n",
       "    </tr>\n",
       "    <tr>\n",
       "      <th>(11, 0.5)</th>\n",
       "      <td>1.973218</td>\n",
       "    </tr>\n",
       "    <tr>\n",
       "      <th>(9, 0.8)</th>\n",
       "      <td>1.976494</td>\n",
       "    </tr>\n",
       "    <tr>\n",
       "      <th>(9, 0.9)</th>\n",
       "      <td>1.984743</td>\n",
       "    </tr>\n",
       "    <tr>\n",
       "      <th>(13, 0.4)</th>\n",
       "      <td>1.985504</td>\n",
       "    </tr>\n",
       "    <tr>\n",
       "      <th>(11, 0.6)</th>\n",
       "      <td>1.985767</td>\n",
       "    </tr>\n",
       "    <tr>\n",
       "      <th>(15, 0.3)</th>\n",
       "      <td>1.990806</td>\n",
       "    </tr>\n",
       "    <tr>\n",
       "      <th>(9, 1.0)</th>\n",
       "      <td>1.992344</td>\n",
       "    </tr>\n",
       "    <tr>\n",
       "      <th>(11, 0.7)</th>\n",
       "      <td>1.996378</td>\n",
       "    </tr>\n",
       "    <tr>\n",
       "      <th>(13, 0.5)</th>\n",
       "      <td>2.001317</td>\n",
       "    </tr>\n",
       "    <tr>\n",
       "      <th>(11, 0.8)</th>\n",
       "      <td>2.005606</td>\n",
       "    </tr>\n",
       "    <tr>\n",
       "      <th>(15, 0.4)</th>\n",
       "      <td>2.011918</td>\n",
       "    </tr>\n",
       "    <tr>\n",
       "      <th>(11, 0.9)</th>\n",
       "      <td>2.013838</td>\n",
       "    </tr>\n",
       "    <tr>\n",
       "      <th>(13, 0.6)</th>\n",
       "      <td>2.013881</td>\n",
       "    </tr>\n",
       "    <tr>\n",
       "      <th>(11, 1.0)</th>\n",
       "      <td>2.021347</td>\n",
       "    </tr>\n",
       "    <tr>\n",
       "      <th>(13, 0.7)</th>\n",
       "      <td>2.024313</td>\n",
       "    </tr>\n",
       "    <tr>\n",
       "      <th>(15, 0.5)</th>\n",
       "      <td>2.027373</td>\n",
       "    </tr>\n",
       "    <tr>\n",
       "      <th>(13, 0.8)</th>\n",
       "      <td>2.033309</td>\n",
       "    </tr>\n",
       "    <tr>\n",
       "      <th>(15, 0.6)</th>\n",
       "      <td>2.039467</td>\n",
       "    </tr>\n",
       "    <tr>\n",
       "      <th>(13, 0.9)</th>\n",
       "      <td>2.041320</td>\n",
       "    </tr>\n",
       "    <tr>\n",
       "      <th>(13, 1.0)</th>\n",
       "      <td>2.048644</td>\n",
       "    </tr>\n",
       "    <tr>\n",
       "      <th>(15, 0.7)</th>\n",
       "      <td>2.049466</td>\n",
       "    </tr>\n",
       "    <tr>\n",
       "      <th>(15, 0.8)</th>\n",
       "      <td>2.058107</td>\n",
       "    </tr>\n",
       "    <tr>\n",
       "      <th>(15, 0.9)</th>\n",
       "      <td>2.065847</td>\n",
       "    </tr>\n",
       "    <tr>\n",
       "      <th>(15, 1.0)</th>\n",
       "      <td>2.072978</td>\n",
       "    </tr>\n",
       "  </tbody>\n",
       "</table>\n",
       "</div>"
      ],
      "text/plain": [
       "               RMSE\n",
       "(11, 0.1)  1.890509\n",
       "(13, 0.1)  1.895850\n",
       "(9, 0.1)   1.897650\n",
       "(9, 0.2)   1.902521\n",
       "(7, 0.2)   1.904878\n",
       "(7, 0.3)   1.908082\n",
       "(15, 0.1)  1.909605\n",
       "(11, 0.2)  1.914983\n",
       "(7, 0.4)   1.915904\n",
       "(9, 0.3)   1.917650\n",
       "(7, 0.1)   1.920164\n",
       "(5, 0.4)   1.922199\n",
       "(5, 0.3)   1.923422\n",
       "(5, 0.5)   1.924771\n",
       "(7, 0.5)   1.924806\n",
       "(5, 0.6)   1.929215\n",
       "(9, 0.4)   1.932517\n",
       "(5, 0.2)   1.933137\n",
       "(7, 0.6)   1.933704\n",
       "(5, 0.7)   1.934636\n",
       "(13, 0.2)  1.935588\n",
       "(11, 0.3)  1.938851\n",
       "(5, 0.8)   1.940585\n",
       "(7, 0.7)   1.942256\n",
       "(9, 0.5)   1.945702\n",
       "(5, 0.9)   1.946822\n",
       "(7, 0.8)   1.950382\n",
       "(5, 1.0)   1.953215\n",
       "(9, 0.6)   1.957237\n",
       "(11, 0.4)  1.957939\n",
       "(7, 0.9)   1.958095\n",
       "(15, 0.2)  1.959551\n",
       "(13, 0.3)  1.964600\n",
       "(7, 1.0)   1.965440\n",
       "(5, 0.1)   1.966277\n",
       "(9, 0.7)   1.967406\n",
       "(11, 0.5)  1.973218\n",
       "(9, 0.8)   1.976494\n",
       "(9, 0.9)   1.984743\n",
       "(13, 0.4)  1.985504\n",
       "(11, 0.6)  1.985767\n",
       "(15, 0.3)  1.990806\n",
       "(9, 1.0)   1.992344\n",
       "(11, 0.7)  1.996378\n",
       "(13, 0.5)  2.001317\n",
       "(11, 0.8)  2.005606\n",
       "(15, 0.4)  2.011918\n",
       "(11, 0.9)  2.013838\n",
       "(13, 0.6)  2.013881\n",
       "(11, 1.0)  2.021347\n",
       "(13, 0.7)  2.024313\n",
       "(15, 0.5)  2.027373\n",
       "(13, 0.8)  2.033309\n",
       "(15, 0.6)  2.039467\n",
       "(13, 0.9)  2.041320\n",
       "(13, 1.0)  2.048644\n",
       "(15, 0.7)  2.049466\n",
       "(15, 0.8)  2.058107\n",
       "(15, 0.9)  2.065847\n",
       "(15, 1.0)  2.072978"
      ]
     },
     "execution_count": 25,
     "metadata": {},
     "output_type": "execute_result"
    },
    {
     "data": {
      "image/png": "[encoded data removed]",
      "text/plain": [
       "<Figure size 432x288 with 1 Axes>"
      ]
     },
     "metadata": {
      "needs_background": "light"
     },
     "output_type": "display_data"
    }
   ],
   "source": [
    "mu_hat = []\n",
    "for i in y_hat_all:\n",
    "    mu_ = [ j[0] for j in i ]\n",
    "    mu_hat.append(mu_)\n",
    "names = []\n",
    "for b in range(5,16,2):\n",
    "    for sigma_square in np.arange(0.1,1.1,0.1):\n",
    "        name_ = (b,round(sigma_square,1))\n",
    "        names.append(name_)\n",
    "mu_hat = np.asarray(mu_hat)\n",
    "RMSE = np.sqrt()\n",
    "plt.plot(RMSE)\n",
    "plt.xlabel('b,sigma square')\n",
    "plt.ylabel('RMSE')\n",
    "RMSE = pd.DataFrame(RMSE, columns=['RMSE'], index=names)\n",
    "RMSE.sort_values(by=['RMSE'])"
   ]
  },
  {
   "cell_type": "markdown",
   "metadata": {},
   "source": [
    "(c)"
   ]
  },
  {
   "cell_type": "markdown",
   "metadata": {},
   "source": [
    "(7, 1.0), (5, 1.0),(5, 0.9),(11, 1.0),(9, 0.9). These are the lowest pairs that have the lowest RMSE values. Compared with what result of Ridge Regression, we can see that these 5 pairs of values are slightly lower than Ridge Regression (range from 2.6 to 3). But we can also see that there are some very high RMSE results like (7, 0.2) which has a RMSE over 700. The choise of sigma and b are very important in this study. With good parameters for the kernel, we can have very good results, however with bad ones, we may have horrible result. "
   ]
  },
  {
   "cell_type": "markdown",
   "metadata": {},
   "source": [
    "(d)"
   ]
  },
  {
   "cell_type": "code",
   "execution_count": 17,
   "metadata": {},
   "outputs": [
    {
     "data": {
      "image/png": "[encoded data removed]",
      "text/plain": [
       "<Figure size 720x360 with 1 Axes>"
      ]
     },
     "metadata": {
      "needs_background": "light"
     },
     "output_type": "display_data"
    }
   ],
   "source": [
    "X_train_4 = X_train[:,3]\n",
    "X_test_4 = X_test[:,3]\n",
    "K_n_4 = np.zeros((n, n))\n",
    "for i in range(0,n):\n",
    "    for j in range(0,n):\n",
    "        K_n_4[i,j] = -np.sum(np.abs(X_train_4[i,:]-X_train_4[j,:]),axis=1)[0,0]**2\n",
    "def gaussian_process_predict_4 (x_new, b, sigma_quared):\n",
    "    mu_ = np.exp(-(np.square(np.sum(np.abs(X_train_4-x_new),axis=1)))/b).T.dot(inv(sigma_quared*np.identity(n)+np.exp(K_n_4/b))).dot(y_train)\n",
    "    return (mu_[0,0])\n",
    "y_hat_4=[]\n",
    "for i in range(0,len(X_train_4)):\n",
    "    y_hat_4.append(gaussian_process_predict_4(X_train_4[i,:],b = 5, sigma_quared=2))\n",
    "model_4 = pd.DataFrame([y_hat_4,y_train.T.tolist()[0],X_train_4.T.tolist()[0]]).T\n",
    "model_4.columns =['y_hat', 'y_train','X_train']\n",
    "model_4 = model_4.sort_values(by=['X_train'])\n",
    "plt.figure(figsize=(10,5))\n",
    "plt.scatter(model_4['X_train'], model_4['y_train'])\n",
    "plt.plot(model_4['X_train'], model_4['y_hat'], color = 'red')\n",
    "plt.xlabel('car weight')\n",
    "plt.ylabel('Gas consumption')\n",
    "plt.show()"
   ]
  }
 ],
 "metadata": {
  "kernelspec": {
   "display_name": "Python 3",
   "language": "python",
   "name": "python3"
  },
  "language_info": {
   "codemirror_mode": {
    "name": "ipython",
    "version": 3
   },
   "file_extension": ".py",
   "mimetype": "text/x-python",
   "name": "python",
   "nbconvert_exporter": "python",
   "pygments_lexer": "ipython3",
   "version": "3.7.3"
  }
 },
 "nbformat": 4,
 "nbformat_minor": 2
}
